{
 "cells": [
  {
   "cell_type": "code",
   "execution_count": null,
   "metadata": {},
   "outputs": [],
   "source": [
    "import numpy as np \n",
    "import matplotlib.pyplot as plt \n",
    "  \n",
    "X = ['15 Oct 2016','19 Oct 2016','20 Oct 2016','All included']\n",
    "results = np.array([[7.5, 5.8, 6.6, 7.5], # All included\n",
    "                    [5.8, 2.2, 2.2, 4.0], # no CO\n",
    "                    [6.6, 3.7, 5.7, 6.7], # no H2O\n",
    "                    [7.5, 4.0, 6.2, 7.4]]) # no OH\n",
    "  \n",
    "X_axis = np.arange(len(X))\n",
    "  \n",
    "fig, ax = plt.subplots()\n",
    "plt.bar(X_axis - 0.3, results[0,:], 0.2, label = 'All included')\n",
    "plt.bar(X_axis - 0.1, results[3,:], 0.2, label = 'OH excluded')\n",
    "plt.bar(X_axis + 0.1, results[2,:], 0.2, label = 'H2O excluded', color='gray')\n",
    "plt.bar(X_axis + 0.3, results[1,:], 0.2, label = 'CO excluded', color='k')\n",
    "  \n",
    "plt.xticks(X_axis, X)\n",
    "plt.xlabel(\"Observing night\")\n",
    "plt.ylabel(\"SNR\")\n",
    "plt.title(\"Modified abundances PHOENIX models\", y=1.15)\n",
    "plt.legend(bbox_to_anchor =(0.75, 1.15), ncol = 2, frameon=False) \n",
    "ax.spines['right'].set_visible(False)\n",
    "ax.spines['top'].set_visible(False)\n",
    "plt.show()"
   ]
  },
  {
   "cell_type": "markdown",
   "metadata": {},
   "source": [
    "What is going on here?"
   ]
  },
  {
   "cell_type": "code",
   "execution_count": 12,
   "metadata": {},
   "outputs": [],
   "source": [
    "import numpy as np\n",
    "\n",
    "phase = np.arange(0.35,0.75,0.01)\n",
    "\n",
    "def phase_filter(phase_obs, occultation_phases, mode='use_all'):\n",
    "    if mode == 'use_all':\n",
    "        return np.ones(len(phase_obs), dtype='bool')\n",
    "    elif mode == 'in_ingress':\n",
    "        return np.logical_and(phase_obs > occultation_phases[0], phase_obs < occultation_phases[1])\n",
    "    elif mode == 'in_egress':\n",
    "        return np.logical_and(phase_obs > occultation_phases[2], phase_obs < occultation_phases[3])\n",
    "    elif mode == 'in_full_occultation':\n",
    "        return np.logical_and(phase_obs > occultation_phases[1], phase_obs < occultation_phases[2])\n",
    "    elif mode == 'out_of_occultation':\n",
    "        return np.logical_or(phase_obs < occultation_phases[0], phase_obs > occultation_phases[3])\n",
    "    elif mode == 'pre_occultation':\n",
    "        return (phase_obs < occultation_phases[0])\n",
    "    elif mode == 'post_occultation':\n",
    "        return (phase_obs > occultation_phases[3])\n",
    "    elif mode == 'symmetric':\n",
    "        phi_min, phi_max = phase_obs.min(), phase_obs.max()\n",
    "        delta_phi_symm = min(0.5-phi_min, phi_max-0.5)\n",
    "        print('SYMMTETRY')\n",
    "        return np.logical_or(\n",
    "            np.logical_and(phase_obs >= 0.5-delta_phi_symm, phase_obs < occultation_phases[0]),\n",
    "            np.logical_and(phase_obs > occultation_phases[3], phase_obs <= 0.5+delta_phi_symm)\n",
    "        )\n",
    "    else:\n",
    "        raise ValueError('Phase mode not understood.')"
   ]
  },
  {
   "cell_type": "code",
   "execution_count": null,
   "metadata": {},
   "outputs": [],
   "source": []
  }
 ],
 "metadata": {
  "kernelspec": {
   "display_name": "Python 3",
   "language": "python",
   "name": "python3"
  },
  "language_info": {
   "codemirror_mode": {
    "name": "ipython",
    "version": 3
   },
   "file_extension": ".py",
   "mimetype": "text/x-python",
   "name": "python",
   "nbconvert_exporter": "python",
   "pygments_lexer": "ipython3",
   "version": "3.7.4"
  }
 },
 "nbformat": 4,
 "nbformat_minor": 4
}
